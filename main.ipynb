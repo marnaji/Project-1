{
 "cells": [
  {
   "cell_type": "code",
   "execution_count": 1,
   "metadata": {},
   "outputs": [],
   "source": [
    "#Dependencies\n",
    "import pandas as pd\n",
    "import numpy as np\n",
    "import matplotlib.pyplot as plt\n",
    "import scipy.stats as st\n",
    "from scipy.stats import linregress\n",
    "\n",
    "%matplotlib inline\n",
    "import seaborn as sns"
   ]
  },
  {
   "cell_type": "code",
   "execution_count": 2,
   "metadata": {},
   "outputs": [],
   "source": [
    "#Refrence to Csv files \n",
    "cab_ride_df = pd.read_csv(\"Cab-Weather-Data/cab_rides.csv\")\n",
    "weather_df = pd.read_csv(\"Cab-Weather-Data/weather.csv\")\n",
    " "
   ]
  },
  {
   "cell_type": "code",
   "execution_count": 3,
   "metadata": {},
   "outputs": [],
   "source": [
    "# Cleaning Weather Data\n",
    "# The timestamps were listed in epoch formatting, and needs to be converted to a readable date format\n",
    "\n",
    "weather_df[\"date\"] = pd.to_datetime(weather_df[\"time_stamp\"], unit=\"s\")\n",
    "\n",
    "# Reorder the columns for readability\n",
    "clean_weather_df = weather_df[[\"date\",\"location\",\"temp\",\"clouds\",\"pressure\",\"rain\",\"humidity\",\"wind\"]]\n",
    "\n",
    "\n",
    "# Reset the index and change the location header to source. This is so our merge will align on common time point & weather conditions at pick up location\n",
    "new_weather_df = clean_weather_df.reset_index(drop=True)\n",
    "new_weather_df.rename(columns={\"location\":\"source\"}, inplace=True)\n",
    "new_weather_df.head()"
   ]
  },
  {
   "cell_type": "code",
   "execution_count": 4,
   "metadata": {},
   "outputs": [],
   "source": [
    "# Cleaning Car Ride Data\n",
    "# The epoch timestamp in this table is represented in milliseconds, so we divide by 1000 to find the time in value of seconds\n",
    "cab_ride_df[\"date\"]=pd.to_datetime(cab_ride_df[\"time_stamp\"]/1000, unit=\"s\")\n",
    "\n",
    "# Removing unwanted columns like id and product_id\n",
    "clean_cab_df = cab_ride_df[[\"date\",\"source\",\"destination\",\"distance\",\"price\",\"surge_multiplier\",\"cab_type\", \"name\"]]\n",
    "\n",
    "# Resetting the index\n",
    "new_cab_df=clean_cab_df.reset_index(drop=True)\n",
    "new_cab_df.head()\n"
   ]
  },
  {
   "cell_type": "code",
   "execution_count": 5,
   "metadata": {},
   "outputs": [],
   "source": [
    "#Merge the datesets into a single one based on time_stamp and location\n",
    "cleaned_merged_df = pd.merge_asof(new_cab_df.sort_values(\"date\"), new_weather_df.sort_values(\"date\"), \n",
    "                            left_by=  ['source' ],right_by= ['source' ] ,\n",
    "                            left_on=  ['date']   ,right_on= ['date'], tolerance=pd.Timedelta(minutes = 15 ) )\n",
    "cleaned_merged_df.head()\n",
    "\n"
   ]
  },
  {
   "cell_type": "code",
   "execution_count": 6,
   "metadata": {},
   "outputs": [],
   "source": [
    "#dataframe info \n",
    "cleaned_merged_df.describe\n"
   ]
  },
  {
   "cell_type": "code",
   "execution_count": 7,
   "metadata": {},
   "outputs": [],
   "source": [
    "# To ensure we have all rows that have weather conditions present, we want to drop all null values in the Temperature column\n",
    "# Null values for rain or wind is ok because these are logical weather conditions\n",
    "final_df=cleaned_merged_df.dropna(subset=[\"temp\"])\n",
    "final_df=final_df.reset_index(drop=True)\n",
    "\n",
    "# With the null values in other rows, we can fill them with \"0\"\n",
    "final_df.fillna(0,inplace=True)\n",
    "final_df.head()"
   ]
  },
  {
   "cell_type": "code",
   "execution_count": 8,
   "metadata": {},
   "outputs": [],
   "source": [
    "#Count the numbers of temp \n",
    "final_df[\"temp\"].count"
   ]
  },
  {
   "cell_type": "code",
   "execution_count": 9,
   "metadata": {},
   "outputs": [],
   "source": [
    "# Adding the day of the week to our table to see if that may have any correlation to weather\n",
    "final_df[\"day_of_week\"]=final_df[\"date\"].dt.day_name()\n",
    "final_df.head()"
   ]
  },
  {
   "cell_type": "code",
   "execution_count": 10,
   "metadata": {},
   "outputs": [],
   "source": [
    "#Adding Month to the table \n",
    "final_df[\"month\"] = final_df['date'].dt.month\n",
    "final_df.head()"
   ]
  },
  {
   "cell_type": "code",
   "execution_count": 11,
   "metadata": {},
   "outputs": [],
   "source": [
    "# Formatting some columns to show accurate values\n",
    "final_df[\"clouds\"]=final_df[\"clouds\"]*100\n",
    "final_df[\"humidity\"]=final_df[\"humidity\"]*100\n"
   ]
  },
  {
   "cell_type": "code",
   "execution_count": 12,
   "metadata": {},
   "outputs": [],
   "source": [
    "# Pretty-fying our final dataframe by including units of measurement for easy analysis\n",
    "\n",
    "final_df = final_df.rename(columns={\"date\":\"Date\",\"day_of_week\":\"Weekday\",\"source\":\"Pick_Up_Location\",\"destination\":\"Destination\",\n",
    "                                    \"distance\":\"Distance(m)\",\"price\":\"Price($)\",\"surge_multiplier\":\"Surge_Multiplier\",\n",
    "                                    \"cab_type\":\"Rideshare_App\",\"name\":\"Ride_Type\",\"temp\":\"Temp(C)\",\n",
    "                                    \"clouds\":\"Cloudiness(%)\",\"pressure\":\"Pressure(MB)\",\"rain\":\"Rainfall(in)\",\n",
    "                                    \"humidity\":\"Humidity(%)\",\"wind\":\"Wind_Speed(mph)\", \"month\":\"Month\"})\n",
    "\n",
    "final_df = final_df[[\"Date\",\"Month\",\"Weekday\",\"Pick_Up_Location\",\"Destination\",\"Distance(m)\",\"Price($)\",\"Surge_Multiplier\",\"Rideshare_App\",\"Ride_Type\",\n",
    "                     \"Temp(C)\",\"Cloudiness(%)\",\"Pressure(MB)\",\"Rainfall(in)\",\"Humidity(%)\",\"Wind_Speed(mph)\"]]\n",
    "final_df.head()"
   ]
  },
  {
   "cell_type": "code",
   "execution_count": 13,
   "metadata": {},
   "outputs": [],
   "source": [
    "#count of Rides with price 0 \n",
    "final_df [ final_df[\"Price($)\"]==0][\"Price($)\"].count()"
   ]
  },
  {
   "cell_type": "code",
   "execution_count": 14,
   "metadata": {},
   "outputs": [],
   "source": [
    "# Save the dataframe into a csv file to analyze further\n",
    "final_df.to_csv(\"rideshare_vs_weather.csv\", index=False)"
   ]
  },
  {
   "cell_type": "code",
   "execution_count": 15,
   "metadata": {},
   "outputs": [],
   "source": [
    "#Pie chart created to see the percentage of lyft rides to Uber Rides\n",
    "ride_counts = final_df[\"Rideshare_App\"].value_counts()\n",
    "\n",
    "percentages = (ride_counts / ride_counts.sum()) * 100\n",
    "\n",
    "plt.pie(percentages, labels=percentages.index, autopct='%1.1f%%')\n",
    "plt.title('Percentage of Uber Rides vs Lyft Rides') \n",
    "plt.axis('equal')\n",
    "plt.show()"
   ]
  },
  {
   "cell_type": "code",
   "execution_count": 16,
   "metadata": {},
   "outputs": [],
   "source": [
    "#find the min and max distance of the trips to find the ranges \n",
    "\n",
    "maximum_distance = final_df[\"Distance(m)\"].max()\n",
    "minimum_distance = final_df[\"Distance(m)\"].min()\n",
    "\n",
    "print(\"Maximum Distance:\", maximum_distance)\n",
    "print(\"Minimum Distance:\", minimum_distance)"
   ]
  },
  {
   "cell_type": "code",
   "execution_count": 17,
   "metadata": {},
   "outputs": [],
   "source": [
    "# Filter the DataFrame to include only Uber rides\n",
    "uber_rides = final_df[final_df[\"Rideshare_App\"] == \"Uber\"]\n",
    "\n",
    "# Define the distance ranges\n",
    "distance_ranges = [\"0-2 miles\", \"2-4 miles\", \"4-6 miles\", \"6-8 miles\"]\n",
    "\n",
    "# Count the number of Uber rides within each distance range\n",
    "ride_counts = [\n",
    "    ((uber_rides[\"Distance(m)\"] >= 0) & (uber_rides[\"Distance(m)\"] <= 2)).sum(),\n",
    "    ((uber_rides[\"Distance(m)\"] > 2) & (uber_rides[\"Distance(m)\"] <= 4)).sum(),\n",
    "    ((uber_rides[\"Distance(m)\"] > 4) & (uber_rides[\"Distance(m)\"] <= 6)).sum(),\n",
    "    ((uber_rides[\"Distance(m)\"] > 6) & (uber_rides[\"Distance(m)\"] <= 8)).sum()\n",
    "]\n",
    "\n",
    "# Plot the bar graph\n",
    "plt.bar(distance_ranges, ride_counts)\n",
    "plt.xlabel(\"Distance Range\")\n",
    "plt.ylabel(\"Number of Uber Rides\")\n",
    "plt.title(\"Number of Uber Rides by Distance Range\")\n",
    "plt.show()"
   ]
  },
  {
   "cell_type": "code",
   "execution_count": 18,
   "metadata": {},
   "outputs": [],
   "source": [
    "# Filter the DataFrame to include only Lyft rides\n",
    "lyft_rides = final_df[final_df[\"Rideshare_App\"] == \"Lyft\"]\n",
    "\n",
    "# Define the distance ranges\n",
    "distance_ranges = [\"0-2 miles\", \"2-4 miles\", \"4-6 miles\", \"6-8 miles\"]\n",
    "\n",
    "# Count the number of Lyft rides within each distance range\n",
    "ride_counts = [\n",
    "    ((lyft_rides[\"Distance(m)\"] >= 0) & (lyft_rides[\"Distance(m)\"] <= 2)).sum(),\n",
    "    ((lyft_rides[\"Distance(m)\"] > 2) & (lyft_rides[\"Distance(m)\"] <= 4)).sum(),\n",
    "    ((lyft_rides[\"Distance(m)\"] > 4) & (lyft_rides[\"Distance(m)\"] <= 6)).sum(),\n",
    "    ((lyft_rides[\"Distance(m)\"] > 6) & (lyft_rides[\"Distance(m)\"] <= 8)).sum()\n",
    "]\n",
    "\n",
    "# Plot the bar graph\n",
    "plt.bar(distance_ranges, ride_counts)\n",
    "plt.xlabel(\"Distance Range\")\n",
    "plt.ylabel(\"Number of Lyft Rides\")\n",
    "plt.title(\"Number of Lyft Rides by Distance Range\")\n",
    "plt.show()"
   ]
  },
  {
   "cell_type": "code",
   "execution_count": 19,
   "metadata": {},
   "outputs": [],
   "source": [
    "# Total revenue for both lyft and uber\n",
    "revenue_df=final_df.groupby(\"Rideshare_App\")[\"Price($)\"].sum()\n",
    "revenue_df\n"
   ]
  },
  {
   "cell_type": "code",
   "execution_count": 20,
   "metadata": {},
   "outputs": [],
   "source": [
    "#Bar plot showing the revenue base on both rideshare apps\n",
    "revenue_df.plot(kind='bar')\n",
    "plt.title(\"Revenue Comparison for Lyft and Uber\")\n",
    "plt.xlabel(\"Rideshare App\")\n",
    "plt.ylabel(\"Revenue in USD\")\n",
    "plt.show()"
   ]
  },
  {
   "cell_type": "code",
   "execution_count": 21,
   "metadata": {},
   "outputs": [],
   "source": [
    "#Lyft Monthly Revenue \n",
    "lyft=final_df[final_df[\"Rideshare_App\"]==\"Lyft\"]\n",
    "lyft_monthly_rev=lyft.groupby(\"Month\")[\"Price($)\"].sum()\n",
    "lyft_monthly_rev"
   ]
  },
  {
   "cell_type": "code",
   "execution_count": 22,
   "metadata": {},
   "outputs": [],
   "source": [
    "#Uber Monthly Revenue \n",
    "uber=final_df[final_df[\"Rideshare_App\"]==\"Uber\"]\n",
    "uber_monthly_rev=uber.groupby([\"Month\"])[\"Price($)\"].sum()\n",
    "uber_monthly_rev"
   ]
  },
  {
   "cell_type": "code",
   "execution_count": 23,
   "metadata": {},
   "outputs": [],
   "source": [
    "#Created Dataframe to show revenue based on each rideshare app\n",
    "monthly_rev_df=pd.DataFrame({\"Lyft\":lyft_monthly_rev,\"Uber\":uber_monthly_rev})\n",
    "monthly_rev_df"
   ]
  },
  {
   "cell_type": "code",
   "execution_count": 24,
   "metadata": {
    "scrolled": true
   },
   "outputs": [],
   "source": [
    "#Bar chart to show revenue based on months\n",
    "ax=monthly_rev_df.plot.bar()\n",
    "labels=['Nov','Dec']\n",
    "ax.set_xticklabels(labels)\n",
    "plt.title(\"Monthly Revenue Comparison for Lyft and Uber\")\n",
    "plt.xlabel(\"Rideshare App\")\n",
    "plt.ylabel(\"Revenue in USD\")\n",
    "plt.show()"
   ]
  },
  {
   "cell_type": "markdown",
   "metadata": {},
   "source": [
    "# Statistical analysis on Price based on Each App"
   ]
  },
  {
   "cell_type": "code",
   "execution_count": 25,
   "metadata": {},
   "outputs": [],
   "source": [
    "#Generate a summary statistics of mean, median, variance, standard deviation, and SEM of the price for Lyft and Uber \n",
    "\n",
    "ride_app = final_df.groupby(\"Rideshare_App\")\n",
    "\n",
    "count_rides = ride_app[\"Price($)\"].count()\n",
    "mean_price = ride_app[\"Price($)\"].mean()\n",
    "median_price = ride_app[\"Price($)\"].median()\n",
    "var_price = ride_app[\"Price($)\"].var()\n",
    "std_price = ride_app[\"Price($)\"].std()\n",
    "sem_price = ride_app[\"Price($)\"].sem()\n",
    "min_price = ride_app[\"Price($)\"].min()\n",
    "max_price = ride_app[\"Price($)\"].max()\n",
    "price_rideApp_df = pd.DataFrame({\"Price Mean\":mean_price , \n",
    "                            \"Price Median \":median_price,\n",
    "                             \"Price Variance\":var_price,\n",
    "                             \"Price Std. Dev.\":std_price,\n",
    "                             \"Price Std. Err.\":sem_price,\n",
    "                                \"Total rides\" :count_rides,\n",
    "                                \"Max Price\" : max_price,\n",
    "                                \"Min Price\": min_price})\n",
    "price_rideApp_df"
   ]
  },
  {
   "cell_type": "markdown",
   "metadata": {},
   "source": [
    "### Maryam's Analysis:\n",
    "Lyft has higher price on avaerage (17.34 vs.13.55  )and the Standard deviation is higher (10.02 vs. 9.66). \n",
    "Lyft max price is 92.0 and the min price is 2.5.\n",
    "Uber max price is 89.5 and the min price is 0.0."
   ]
  },
  {
   "cell_type": "markdown",
   "metadata": {},
   "source": [
    "# Determin any pattern change of the average price on each day of the week base on each App\n",
    "###  Plot Line bar to show the comparison "
   ]
  },
  {
   "cell_type": "code",
   "execution_count": 26,
   "metadata": {},
   "outputs": [],
   "source": [
    "# Create a sorted value list to sort day of the week result\n",
    "cats = [ 'Monday', 'Tuesday', 'Wednesday', 'Thursday', 'Friday', 'Saturday', 'Sunday']\n"
   ]
  },
  {
   "cell_type": "code",
   "execution_count": 27,
   "metadata": {},
   "outputs": [],
   "source": [
    "# higehst price of the Uber rides / indexed based on cats variable\n",
    "uber_rides = final_df[ final_df[\"Rideshare_App\"]==\"Uber\"]\n",
    "uber_highestday_price=uber_rides.groupby([\"Weekday\"])[\"Price($)\"].mean().reindex(cats)\n",
    "uber_highestday_price"
   ]
  },
  {
   "cell_type": "code",
   "execution_count": 28,
   "metadata": {},
   "outputs": [],
   "source": [
    "# higehst price of the Lyft rides / indexed based on cats variable\n",
    "lyft_rides = final_df[ final_df[\"Rideshare_App\"]==\"Lyft\"]\n",
    "lyft_highestday_price=lyft_rides.groupby([\"Weekday\"])[\"Price($)\"].mean().reindex(cats)\n",
    "lyft_highestday_price\n"
   ]
  },
  {
   "cell_type": "code",
   "execution_count": 29,
   "metadata": {},
   "outputs": [],
   "source": [
    "#created the line chart to show price difference based on most expensive day of the week for each ride app \n",
    "plt.figure(figsize=(16, 8), dpi=150)\n",
    "uber_highestday_price.plot(color =\"r\", label =\"uber highest price perday\")\n",
    "lyft_highestday_price.plot(color =\"b\", label =\"lyft highest price perday\")\n",
    "plt.legend()\n"
   ]
  },
  {
   "cell_type": "markdown",
   "metadata": {},
   "source": [
    "### Maryam's Analysis:\n",
    "Avaerage of the price for each app on different days of the week is relatively constant and does not change a lot. "
   ]
  },
  {
   "cell_type": "markdown",
   "metadata": {},
   "source": [
    "# Determin Price outliers for each App and plot Boxplot "
   ]
  },
  {
   "cell_type": "code",
   "execution_count": 30,
   "metadata": {},
   "outputs": [],
   "source": [
    "# create rides into list for loop\n",
    "ride_list = [\"Lyft\", \"Uber\"]\n",
    "\n",
    "#Create empty list to fill with price data (for plotting)\n",
    "price_list =[]\n",
    "\n",
    "for ride in ride_list:\n",
    "    \n",
    "    price = final_df[ final_df[\"Rideshare_App\"]==ride][\"Price($)\"] \n",
    "    \n",
    "    price_list.append(price)\n",
    "    \n",
    "    # Determine outliers using upper and lower bounds\n",
    "    quartiles = price.quantile([.25,.5,.75])\n",
    "    lowerq = quartiles[0.25]\n",
    "    upperq = quartiles[0.75]\n",
    "    iqr = upperq-lowerq\n",
    "    lower_bound = lowerq - (1.5*iqr)\n",
    "    upper_bound = upperq + (1.5*iqr)\n",
    "    # print if the counter is empty and add a space between each regimen\n",
    "    \n",
    "   \n",
    "    print(f\"The IQR data for {ride} is:\")\n",
    "    print(f\"The lower quartile of {ride} is: {lowerq}\")\n",
    "    print(f\"The upper quartile of {ride} is: {upperq}\")\n",
    "    print(f\"The interquartile range of {ride} is: {iqr}\")\n",
    "    print(f\"The the median of {ride} is: {quartiles[0.5]}\")\n",
    "    print(f\"Values below {lower_bound} could be outliers.\")\n",
    "    print(f\"Values above {upper_bound} could be outliers.\")\n",
    "    print(f\"\")\n",
    "   \n"
   ]
  },
  {
   "cell_type": "code",
   "execution_count": 31,
   "metadata": {},
   "outputs": [],
   "source": [
    "# Generate a box plot that shows the distrubution of the price based on each ride app.\n",
    "flierprops = dict(marker='o', markerfacecolor='r', markersize=10, markeredgecolor='black')\n",
    "\n",
    "fig1, ax1 = plt.subplots()\n",
    "ax1.set_ylabel(\" Price $\")\n",
    "ax1.set_xlabel(\"Ride\")\n",
    "ax1.boxplot(price_list, flierprops=flierprops)\n",
    "ax1.set_xticklabels(ride_list)\n",
    "\n",
    "plt.show()"
   ]
  },
  {
   "cell_type": "markdown",
   "metadata": {},
   "source": [
    "# Plot Heatmap \n",
    "#### 1- Correlation among All the Data in the  DataFrame\n",
    "#### 2- Correlation among Weather condition and Price \n",
    "#### 3- Correlation among Daily weather conditions and Revenue "
   ]
  },
  {
   "cell_type": "code",
   "execution_count": 32,
   "metadata": {},
   "outputs": [],
   "source": [
    "# Plot the correlation heat map among numeric columns\n",
    "# calculate the correlation matrix on the numeric columns\n",
    "corr = final_df.select_dtypes('number').corr()\n",
    "\n",
    "# plot the heatmap\n",
    "sns.heatmap(corr)"
   ]
  },
  {
   "cell_type": "code",
   "execution_count": 33,
   "metadata": {},
   "outputs": [],
   "source": [
    "# calculate the correlation matrix on the wehater conditions and price\n",
    "conditions_list = [\"Temp(C)\",\"Cloudiness(%)\",\"Pressure(MB)\",\"Rainfall(in)\",\"Humidity(%)\",\"Wind_Speed(mph)\",\"Price($)\"]\n",
    "\n",
    "corr = final_df.loc[:,conditions_list].select_dtypes('number').corr()\n",
    "\n",
    "# plot the heatmap\n",
    "sns.heatmap(corr)"
   ]
  },
  {
   "cell_type": "code",
   "execution_count": 34,
   "metadata": {},
   "outputs": [],
   "source": [
    "#aggregate the data to calculate the revenue and get the mean for the rest for each specific day \n",
    "\n",
    "#create a day field \n",
    "final_df[\"day\"] = final_df[\"Date\"].dt.date\n",
    "by_date_df = final_df.groupby(\"day\")\n",
    "#create revenue and add a column called revenue to by_date dataframe\n",
    "\n",
    "#aggregate the price column to get the revenue \n",
    "revenue = by_date_df[\"Price($)\"].sum()\n",
    "by_date_df = by_date_df.mean()\n",
    "by_date_df[\"revenue\"] = revenue\n",
    "\n",
    "\n",
    "by_date_df\n"
   ]
  },
  {
   "cell_type": "code",
   "execution_count": 35,
   "metadata": {},
   "outputs": [],
   "source": [
    "# calculate the correlation matrix on revenue based on the wehater conditions on specific days\n",
    "conditions_list = [\"Temp(C)\",\"Cloudiness(%)\",\"Pressure(MB)\",\"Rainfall(in)\",\"Humidity(%)\",\"Wind_Speed(mph)\",\"Distance(m)\",\"revenue\"]\n",
    "\n",
    "corr = by_date_df.loc[:,conditions_list].select_dtypes('number').corr()\n",
    "\n",
    "\n",
    "# plot the heatmap\n",
    "sns.heatmap(corr)"
   ]
  },
  {
   "cell_type": "markdown",
   "metadata": {},
   "source": [
    "### Maryam's Analysis:\n",
    "    Revenue has the highest correlation with Rainfall. The Rainfall, Cloudiness, Humidity, Wind_Speed have the positive effect on revenue. The distance has the negative effect, because the bulk of the price comes from the initial charge on each ride per day.  \n",
    "    So, The best strategy to increase revenue is to focuse on more short distance rides. \n"
   ]
  },
  {
   "cell_type": "markdown",
   "metadata": {},
   "source": [
    "# Linear Regression of Distance Vs. Average of Price (Lyft): "
   ]
  },
  {
   "cell_type": "code",
   "execution_count": 36,
   "metadata": {},
   "outputs": [],
   "source": [
    "#Bining the distance\n",
    "bins = [0,1,2,3,4,5,6,7,8]\n",
    "final_df[\"dist\"] =  pd.cut(final_df[\"Distance(m)\"].astype(float),bins)\n",
    "final_df[[\"Distance(m)\",\"dist\"]].head(20)\n"
   ]
  },
  {
   "cell_type": "code",
   "execution_count": 37,
   "metadata": {},
   "outputs": [],
   "source": [
    "#Study the relationship between price and the distance\n",
    "# Calculate the correlation coefficient and a linear regression model \n",
    "#  for price and distance for the entire rides based on different app\n",
    "\n",
    "\n",
    "uber_rides=final_df.loc[final_df[\"Rideshare_App\"] ==\"Uber\"]\n",
    "uber_rides = uber_rides.groupby(\"dist\").mean()\n",
    "\n",
    "# Count the number of Lyft rides within each distance range\n",
    "\n",
    "uber_price = uber_rides[\"Price($)\"]\n",
    "uber_distance = uber_rides[\"Distance(m)\"]\n",
    "\n",
    "corr = round(st.pearsonr(uber_distance, uber_price )[0],2)\n",
    "print(f\"The correlation between price of Uber rides and the Distance  {corr}\")\n",
    "\n",
    "\n",
    "#linear regression model\n",
    "linear_reg = st.linregress( uber_rides[\"Distance(m)\"],uber_rides[\"Price($)\"])\n",
    "linear_reg\n",
    "\n"
   ]
  },
  {
   "cell_type": "code",
   "execution_count": 38,
   "metadata": {},
   "outputs": [],
   "source": [
    "# plot the regression line on the scatter plot\n",
    "uber_rides=final_df.loc[final_df[\"Rideshare_App\"] ==\"Uber\"]\n",
    "\n",
    "\n",
    "plt.scatter(uber_distance, uber_price)\n",
    "\n",
    "#linear regression equation and plot the line\n",
    "uber_price_predict = uber_distance * linear_reg.slope + linear_reg.intercept\n",
    "plt.plot(uber_distance, uber_price_predict, color='red')\n",
    "line_eq = \"y = \" + str(round(linear_reg.slope,2)) + \"x + \" + str(round(linear_reg.intercept,2))\n",
    "plt.annotate(line_eq,(5,15),fontsize=15,color=\"red\")\n",
    "plt.title(\"Linear Regression of Distance Vs. Average of Price (Uber)\")\n",
    "plt.xlabel(\"Distance(m)\")\n",
    "plt.ylabel(\"Average of Price($)\")\n",
    "plt.show()"
   ]
  },
  {
   "cell_type": "code",
   "execution_count": 39,
   "metadata": {},
   "outputs": [],
   "source": [
    "#Study the relationship between price and the distance\n",
    "# Calculate the correlation coefficient and a linear regression model \n",
    "# for price and distance for the entire rides based on different app\n",
    "\n",
    "\n",
    "lyft_rides=final_df.loc[final_df[\"Rideshare_App\"] ==\"Lyft\"]\n",
    "lyft_rides = lyft_rides.groupby(\"dist\").mean()\n",
    "lyft_rides = lyft_rides.dropna()\n",
    "\n",
    "# Count the number of Lyft rides within each distance range\n",
    "\n",
    "lyft_price = lyft_rides[\"Price($)\"]\n",
    "lyft_distance = lyft_rides[\"Distance(m)\"]\n",
    "\n",
    "corr = round(st.pearsonr(lyft_distance, lyft_price )[0],2)\n",
    "print(f\"The correlation between price of Lyft rides and the Distance  {corr}\")\n",
    "\n",
    "\n",
    "#linear regression model\n",
    "linear_reg = st.linregress( lyft_rides[\"Distance(m)\"],lyft_rides[\"Price($)\"])\n",
    "linear_reg\n",
    "\n"
   ]
  },
  {
   "cell_type": "code",
   "execution_count": 40,
   "metadata": {},
   "outputs": [],
   "source": [
    "# plot the regression line on the scatter plot\n",
    "lyft_rides=final_df.loc[final_df[\"Rideshare_App\"] ==\"Lyft\"]\n",
    "\n",
    "\n",
    "plt.scatter(lyft_distance, lyft_price)\n",
    "#linear regression equation and plot the line\n",
    "lyft_price_predict = lyft_distance * linear_reg.slope + linear_reg.intercept\n",
    "plt.plot(lyft_distance, lyft_price_predict, color='red')\n",
    "line_eq = \"y = \" + str(round(linear_reg.slope,2)) + \"x + \" + str(round(linear_reg.intercept,2))\n",
    "plt.annotate(line_eq,(3.5,20),fontsize=15,color=\"red\")\n",
    "plt.title(\"Linear Regression of Distance Vs. Average of Price (Lyft)\")\n",
    "plt.xlabel(\"Distance(m)\")\n",
    "plt.ylabel(\"Average of Price($)\")\n",
    "plt.show()\n"
   ]
  },
  {
   "cell_type": "markdown",
   "metadata": {},
   "source": [
    "Maryam's Analysis:\n",
    "Lyft charges more for based rides compare to Uber (10.05 vs. 9.50) and charges more for each additional miles compare to Uber (3.38 vs. 1.93) "
   ]
  },
  {
   "cell_type": "markdown",
   "metadata": {},
   "source": [
    "# Comparison of Distance vs. Price for Each ride \n",
    "1- The problem: How do we know if Distance would effect the price charges on each app?\n",
    "2- The solution: ANOVA - does Distance not effect the price that each ride charges?"
   ]
  },
  {
   "cell_type": "code",
   "execution_count": 41,
   "metadata": {},
   "outputs": [],
   "source": [
    "#Create BoxPlot to compare mean of the distance vs Price\n",
    "#Uber\n",
    "uber_rides.boxplot(\"Distance(m)\", by=\"Price($)\", figsize=(20, 10))"
   ]
  },
  {
   "cell_type": "code",
   "execution_count": 42,
   "metadata": {},
   "outputs": [],
   "source": [
    "# Extract individual groups based on different price \n",
    "group0 = uber_rides[uber_rides[\"Price($)\"] <= 30][\"Distance(m)\"]\n",
    "group1 = uber_rides[uber_rides[\"Price($)\"] <= 60][\"Distance(m)\"]\n",
    "group2 = uber_rides[uber_rides[\"Price($)\"] <= 90][\"Distance(m)\"]\n"
   ]
  },
  {
   "cell_type": "code",
   "execution_count": 43,
   "metadata": {},
   "outputs": [],
   "source": [
    "# Perform the ANOVA\n",
    "st.f_oneway(group0, group1, group2)"
   ]
  },
  {
   "cell_type": "code",
   "execution_count": 44,
   "metadata": {},
   "outputs": [],
   "source": [
    "#Create BoxPlot to compare mean of the distance vs Price\n",
    "#Lyft \n",
    "lyft_rides.boxplot(\"Distance(m)\", by=\"Price($)\", figsize=(20, 10))"
   ]
  },
  {
   "cell_type": "code",
   "execution_count": 45,
   "metadata": {},
   "outputs": [],
   "source": [
    "# Extract individual groups based on different price \n",
    "group0 = lyft_rides[lyft_rides[\"Price($)\"] <= 30][\"Distance(m)\"]\n",
    "group1 = lyft_rides[lyft_rides[\"Price($)\"] <= 60][\"Distance(m)\"]\n",
    "group2 = lyft_rides[lyft_rides[\"Price($)\"] <= 90][\"Distance(m)\"]\n"
   ]
  },
  {
   "cell_type": "code",
   "execution_count": 46,
   "metadata": {},
   "outputs": [],
   "source": [
    "# Perform the ANOVA\n",
    "st.f_oneway(group0, group1, group2)"
   ]
  },
  {
   "cell_type": "markdown",
   "metadata": {},
   "source": [
    "### Maryam's Analysis:\n",
    "#### Uber : \n",
    "Uber includes more rides, and has the p-Value of pvalue=1.1480829994832444e-127 which is a very small number. So, the null hypothesis that Distance would not have effect on the Price can be rejected. \n",
    "#### Lyft : \n",
    "Lyft includes less rides, and had the pvalue=4.858273627090331e-168 which will also reject the null hypohesis that Distance would not have an affect on Price. "
   ]
  }
 ],
 "metadata": {
  "kernelspec": {
   "display_name": "Python 3 (ipykernel)",
   "language": "python",
   "name": "python3"
  },
  "language_info": {
   "codemirror_mode": {
    "name": "ipython",
    "version": 3
   },
   "file_extension": ".py",
   "mimetype": "text/x-python",
   "name": "python",
   "nbconvert_exporter": "python",
   "pygments_lexer": "ipython3",
   "version": "3.9.12"
  }
 },
 "nbformat": 4,
 "nbformat_minor": 2
}
